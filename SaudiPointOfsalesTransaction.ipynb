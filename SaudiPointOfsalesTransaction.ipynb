{
 "cells": [
  {
   "cell_type": "markdown",
   "metadata": {},
   "source": [
    "# Saudi Point Of sales Transaction dashboard"
   ]
  },
  {
   "cell_type": "code",
   "execution_count": null,
   "metadata": {},
   "outputs": [],
   "source": [
    "# import libraries\n",
    "import pandas as pd\n",
    "import numpy as np\n",
    "import glob\n",
    "\n",
    "\n",
    "import pdfplumber\n",
    "import re\n",
    "from helper import * \n",
    "\n",
    "\n",
    "import requests\n",
    "from bs4 import BeautifulSoup\n",
    "from selenium import webdriver\n",
    "from selenium.webdriver.common.by import By\n",
    "from selenium.webdriver.common.keys import Keys\n",
    "from selenium.webdriver.support.wait import WebDriverWait\n",
    "from selenium.webdriver.support import expected_conditions as EC\n",
    "from selenium.common.exceptions import WebDriverException\n",
    "from fake_useragent import UserAgent\n",
    "from geopy.geocoders import Nominatim"
   ]
  },
  {
   "cell_type": "code",
   "execution_count": null,
   "metadata": {},
   "outputs": [],
   "source": [
    "url = \"https://www.sama.gov.sa/ar-sa/Indices/pages/pos.aspx\"\n",
    "#url= \"https://www.sama.gov.sa/ar-sa/Indices/Pages/POS.aspx?Paged=TRUE&p_SortBehavior=0&p_Created=20210316%2013%3a24%3a35&p_ID=50&PageFirstRow=31&View=e107b92a-9e94-4513-b248-dc9a0beeae39\"\n",
    "\n",
    "with requests.Session() as s:\n",
    "    s.headers = {'User-Agent': 'Mozilla/5.0 '}\n",
    "\n",
    "    response = s.get(url)\n",
    "    soup = BeautifulSoup(response.content)\n",
    "    FileRef = re.findall(\"FileRef.*?[\\.!?]\", str(soup), re.MULTILINE | re.DOTALL )\n",
    "    FileRefNew = [item.replace(\"\\\\u002far-sa\\\\u002fIndices\\\\u002fPOS\\\\u002f\", \"https://www.sama.gov.sa/ar-sa/Indices/POS/\") for item in FileRef]\n",
    "    string = 'pdf'\n",
    "    FileRefNew = [x + string for x in FileRefNew]\n",
    "    FileRefNew = [e[11:] for e in FileRefNew]\n",
    "    print(FileRefNew[0])\n"
   ]
  },
  {
   "cell_type": "code",
   "execution_count": null,
   "metadata": {},
   "outputs": [],
   "source": [
    "# Loop through all urls and download pdfs\n",
    "for url in FileRefNew:\n",
    "    try:\n",
    "        # Manage firefox specific settings in a way that geckodriver can understand \n",
    "        options = webdriver.FirefoxOptions()\n",
    "        options.set_preference(\"browser.download.folderList\", 2)\n",
    "        options.set_preference(\"browser.download.manager.showWhenStarting\", False)\n",
    "        options.set_preference(\"browser.download.dir\", \"SaudiPointOfSales/pdf\")\n",
    "        options.set_preference(\"browser.download.useDownloadDir\", True)\n",
    "        options.set_preference(\"browser.helperApps.neverAsk.saveToDisk\", \"application/pdf\")\n",
    "        options.set_preference(\"pdfjs.disabled\", True)\n",
    "        options.set_preference(\"pdfjs.enabledCache.state\", False)\n",
    "        options.set_preference(\"plugin.scan.Acrobat\", \"99.0\")\n",
    "        options.set_preference(\"plugin.scan.plid.all\", False)\n",
    "        # call selenium driver to automate web browser interaction\n",
    "        driver = webdriver.Firefox(executable_path=r\"SaudiPointOfSales/geckodriver\", options = options)\n",
    "        # open an URL\n",
    "        driver.get(url)\n",
    "        driver.implicitly_wait(10)\n",
    "        driver.close()\n",
    "    except WebDriverException:\n",
    "        driver.quit()\n",
    "        exit()"
   ]
  },
  {
   "cell_type": "code",
   "execution_count": null,
   "metadata": {},
   "outputs": [],
   "source": [
    "# Scraping tables from pdfs  & save it in dataframs     \n",
    "arr_of_files = (glob.glob(r\"/Users/turki/SaudiPointOfSales/SaudiPointOfSales/pdf/*.pdf\"))\n",
    "\n",
    "# Create or initialize Pandas DataFrame\n",
    "sectors_df = pd.DataFrame()\n",
    "cities_df = pd.DataFrame()\n",
    "\n",
    "for i in arr_of_files:\n",
    "    # Plumb a PDF for detailed information and table and store it in the initialize datafram.\n",
    "    with pdfplumber.open(i) as pdf:\n",
    "        tables = pdf.pages[0].find_tables()\n",
    "        first_table = tables[0].extract(x_tolerance = 5)\n",
    "        second_table = tables[1].extract(x_tolerance = 5)\n",
    "        \n",
    "        # Do some data cleansing in the first table inside a pdf \n",
    "        df_first_table = pd.DataFrame (first_table)\n",
    "        df_first_table = df_first_table[[0,7,8]]\n",
    "        df_first_table['Date'] = df_first_table[7][0]\n",
    "        df_first_table = df_first_table[2:]\n",
    "        df_first_table = df_first_table.reset_index(drop=True)\n",
    "        \n",
    "        sectors_df = sectors_df.append(df_first_table)\n",
    "        \n",
    "        # Do some data cleansing in the second table inside a pdf \n",
    "        df_second_table = pd.DataFrame (second_table)\n",
    "        df_second_table = df_second_table[[0,7,8]]\n",
    "        df_second_table['Date'] = df_second_table[7][0]\n",
    "        df_second_table = df_second_table[2:]\n",
    "        df_second_table = df_second_table.reset_index(drop=True)\n",
    "        \n",
    "        cities_df = cities_df.append(df_second_table)\n",
    "        \n",
    "print(\"** Done converting tables to data frames **\")\n",
    "\n",
    "# Renames columns  \n",
    "sectors_df = sectors_df.rename(columns={0: 'Sector',7: 'Number of Transactions', 8: 'Value of Transactions'})\n",
    "cities_df = cities_df.rename(columns={0: 'City',7: 'Number of Transactions', 8: 'Value of Transactions'})\n",
    "to_int(cities_df,'Value of Transactions')\n",
    "to_int(cities_df,'Number of Transactions')\n",
    "\n",
    "\n",
    "\n",
    "# parsing dates\n",
    "sectors_df[\"Start Date\"]= sectors_df['Date'].str.split(\"-\", n = 1, expand = True)[0]\n",
    "sectors_df[\"End Date\"]= sectors_df['Date'].str.split(\"-\", n = 1, expand = True)[1]\n",
    "del sectors_df[\"Date\"]\n",
    "# TODO: tranfare the date to year, month, week \n",
    "\n",
    "cities_df[\"Start Date\"]= cities_df['Date'].str.split(\"-\", n = 1, expand = True)[0]\n",
    "cities_df[\"End Date\"]= cities_df[\"Date\"].str.split(\"-\", n = 1, expand = True)[1]\n",
    "del cities_df[\"Date\"]\n",
    "# TODO: tranfare the date to year, month, week \n",
    "\n",
    "# Doing more data cleansing\n",
    "sectors(sectors_df)\n",
    "cities(cities_df)\n",
    "\n",
    "\n",
    "# Add latitude & longitude for map chart\n",
    "group_City = cities_df.groupby(by='English_City').agg({'Value of Transactions' : 'sum', 'Number of Transactions' : 'sum'})\n",
    "\n",
    "location = [x for x in group_City['English_City'].unique().tolist() \n",
    "            if type(x) == str]\n",
    "latitude = []\n",
    "longitude =  []\n",
    "for i in range(0, len(location)):\n",
    "    # remove things that does not seem usefull here\n",
    "    try:\n",
    "        address = location[i] + ', Saudi Arabia'\n",
    "        geolocator = Nominatim(user_agent=\"sa_explorer@gmail.com\")\n",
    "        loc = geolocator.geocode(address)\n",
    "        latitude.append(loc.latitude)\n",
    "        longitude.append(loc.longitude)\n",
    "        print('The geographical coordinate of location are {}, {}.'.format(loc.latitude, loc.longitude))\n",
    "    except:\n",
    "        # in the case the geolocator does not work, then add nan element to list\n",
    "        # to keep the right size\n",
    "        latitude.append(np.nan)\n",
    "        longitude.append(np.nan)\n",
    "# create a dataframe with the locatio, latitude and longitude\n",
    "df_ = pd.DataFrame({'English_City':location, \n",
    "                    'location_latitude': latitude,\n",
    "                    'location_longitude':longitude})\n",
    "# merge on English_City with Groupe_City to get the column \n",
    "Grouped_City = group_City.merge(df_, on='English_City', how='left')\n",
    "Grouped_City.at[Grouped_City['English_City'] == 'OTHER','location_latitude'] = float(25)\n",
    "Grouped_City.at[Grouped_City['English_City'] == 'OTHER','location_longitude'] = float(45)\n",
    "\n",
    "sectors_df.to_csv('output/sectors_df.csv', index = False)\n",
    "cities_df.to_csv('output/cities_df.csv', index = False)\n",
    "Grouped_City.to_csv('output/Grouped_City.csv', index = False)\n",
    "\n",
    "print(\"** Done cleansing data frames **\")"
   ]
  },
  {
   "cell_type": "code",
   "execution_count": null,
   "metadata": {},
   "outputs": [],
   "source": [
    "px.set_mapbox_access_token('pk.eyJ1IjoiYWxzdXR1cmtpIiwiYSI6ImNrdjUzOXM4cTAzZmIydnBqMWh1cms0a2MifQ.HDRkBwCGJl3wMaWzsyMtDQ')"
   ]
  },
  {
   "cell_type": "code",
   "execution_count": 90,
   "metadata": {},
   "outputs": [
    {
     "data": {
      "application/vnd.plotly.v1+json": {
       "config": {
        "plotlyServerURL": "https://plot.ly"
       },
       "data": [
        {
         "hovertemplate": "<b>%{hovertext}</b><br><br>Value of Transactions=%{marker.color}<br>location_latitude=%{lat}<br>location_longitude=%{lon}<extra></extra>",
         "hovertext": [
          "ABHA",
          "BURAIDAH",
          "DAMMAM",
          "HAIL",
          "JEDDAH",
          "KHOBAR",
          "MADINA",
          "MAKKAH",
          "OTHER",
          "RIYADH",
          "TABOUK"
         ],
         "lat": [
          18.2164282,
          26.331667,
          26.436782399999995,
          26.992098699999996,
          21.581008800000003,
          26.3039999,
          25.135436300000002,
          21.420847,
          25,
          24.638916000000002,
          28.4012536
         ],
         "legendgroup": "",
         "lon": [
          42.5043596,
          43.971667,
          50.1039991,
          41.4892578,
          39.1653612,
          50.196023700000005,
          39.162594,
          39.826869,
          45,
          46.7160104,
          36.567049
         ],
         "marker": {
          "color": [
           5284379,
           8585629,
           18155700,
           5686382,
           54909895,
           11650070,
           12544928,
           11122572,
           100191654,
           104496608,
           6046489
          ],
          "coloraxis": "coloraxis",
          "size": [
           5284379,
           8585629,
           18155700,
           5686382,
           54909895,
           11650070,
           12544928,
           11122572,
           100191654,
           104496608,
           6046489
          ],
          "sizemode": "area",
          "sizeref": 116107.34222222223
         },
         "mode": "markers",
         "name": "",
         "showlegend": false,
         "subplot": "mapbox",
         "type": "scattermapbox"
        }
       ],
       "layout": {
        "coloraxis": {
         "colorbar": {
          "title": {
           "text": "Value of Transactions"
          }
         },
         "colorscale": [
          [
           0,
           "rgb(196, 230, 195)"
          ],
          [
           0.16666666666666666,
           "rgb(150, 210, 164)"
          ],
          [
           0.3333333333333333,
           "rgb(109, 188, 144)"
          ],
          [
           0.5,
           "rgb(77, 162, 132)"
          ],
          [
           0.6666666666666666,
           "rgb(54, 135, 122)"
          ],
          [
           0.8333333333333334,
           "rgb(38, 107, 110)"
          ],
          [
           1,
           "rgb(29, 79, 96)"
          ]
         ]
        },
        "legend": {
         "itemsizing": "constant",
         "tracegroupgap": 0
        },
        "mapbox": {
         "accesstoken": "pk.eyJ1IjoiYWxzdXR1cmtpIiwiYSI6ImNrdjUzOXM4cTAzZmIydnBqMWh1cms0a2MifQ.HDRkBwCGJl3wMaWzsyMtDQ",
         "center": {
          "lat": 24.58713071818182,
          "lon": 43.15483552727273
         },
         "domain": {
          "x": [
           0,
           1
          ],
          "y": [
           0,
           1
          ]
         },
         "zoom": 4
        },
        "margin": {
         "t": 60
        },
        "template": {
         "data": {
          "bar": [
           {
            "error_x": {
             "color": "#2a3f5f"
            },
            "error_y": {
             "color": "#2a3f5f"
            },
            "marker": {
             "line": {
              "color": "#E5ECF6",
              "width": 0.5
             }
            },
            "type": "bar"
           }
          ],
          "barpolar": [
           {
            "marker": {
             "line": {
              "color": "#E5ECF6",
              "width": 0.5
             }
            },
            "type": "barpolar"
           }
          ],
          "carpet": [
           {
            "aaxis": {
             "endlinecolor": "#2a3f5f",
             "gridcolor": "white",
             "linecolor": "white",
             "minorgridcolor": "white",
             "startlinecolor": "#2a3f5f"
            },
            "baxis": {
             "endlinecolor": "#2a3f5f",
             "gridcolor": "white",
             "linecolor": "white",
             "minorgridcolor": "white",
             "startlinecolor": "#2a3f5f"
            },
            "type": "carpet"
           }
          ],
          "choropleth": [
           {
            "colorbar": {
             "outlinewidth": 0,
             "ticks": ""
            },
            "type": "choropleth"
           }
          ],
          "contour": [
           {
            "colorbar": {
             "outlinewidth": 0,
             "ticks": ""
            },
            "colorscale": [
             [
              0,
              "#0d0887"
             ],
             [
              0.1111111111111111,
              "#46039f"
             ],
             [
              0.2222222222222222,
              "#7201a8"
             ],
             [
              0.3333333333333333,
              "#9c179e"
             ],
             [
              0.4444444444444444,
              "#bd3786"
             ],
             [
              0.5555555555555556,
              "#d8576b"
             ],
             [
              0.6666666666666666,
              "#ed7953"
             ],
             [
              0.7777777777777778,
              "#fb9f3a"
             ],
             [
              0.8888888888888888,
              "#fdca26"
             ],
             [
              1,
              "#f0f921"
             ]
            ],
            "type": "contour"
           }
          ],
          "contourcarpet": [
           {
            "colorbar": {
             "outlinewidth": 0,
             "ticks": ""
            },
            "type": "contourcarpet"
           }
          ],
          "heatmap": [
           {
            "colorbar": {
             "outlinewidth": 0,
             "ticks": ""
            },
            "colorscale": [
             [
              0,
              "#0d0887"
             ],
             [
              0.1111111111111111,
              "#46039f"
             ],
             [
              0.2222222222222222,
              "#7201a8"
             ],
             [
              0.3333333333333333,
              "#9c179e"
             ],
             [
              0.4444444444444444,
              "#bd3786"
             ],
             [
              0.5555555555555556,
              "#d8576b"
             ],
             [
              0.6666666666666666,
              "#ed7953"
             ],
             [
              0.7777777777777778,
              "#fb9f3a"
             ],
             [
              0.8888888888888888,
              "#fdca26"
             ],
             [
              1,
              "#f0f921"
             ]
            ],
            "type": "heatmap"
           }
          ],
          "heatmapgl": [
           {
            "colorbar": {
             "outlinewidth": 0,
             "ticks": ""
            },
            "colorscale": [
             [
              0,
              "#0d0887"
             ],
             [
              0.1111111111111111,
              "#46039f"
             ],
             [
              0.2222222222222222,
              "#7201a8"
             ],
             [
              0.3333333333333333,
              "#9c179e"
             ],
             [
              0.4444444444444444,
              "#bd3786"
             ],
             [
              0.5555555555555556,
              "#d8576b"
             ],
             [
              0.6666666666666666,
              "#ed7953"
             ],
             [
              0.7777777777777778,
              "#fb9f3a"
             ],
             [
              0.8888888888888888,
              "#fdca26"
             ],
             [
              1,
              "#f0f921"
             ]
            ],
            "type": "heatmapgl"
           }
          ],
          "histogram": [
           {
            "marker": {
             "colorbar": {
              "outlinewidth": 0,
              "ticks": ""
             }
            },
            "type": "histogram"
           }
          ],
          "histogram2d": [
           {
            "colorbar": {
             "outlinewidth": 0,
             "ticks": ""
            },
            "colorscale": [
             [
              0,
              "#0d0887"
             ],
             [
              0.1111111111111111,
              "#46039f"
             ],
             [
              0.2222222222222222,
              "#7201a8"
             ],
             [
              0.3333333333333333,
              "#9c179e"
             ],
             [
              0.4444444444444444,
              "#bd3786"
             ],
             [
              0.5555555555555556,
              "#d8576b"
             ],
             [
              0.6666666666666666,
              "#ed7953"
             ],
             [
              0.7777777777777778,
              "#fb9f3a"
             ],
             [
              0.8888888888888888,
              "#fdca26"
             ],
             [
              1,
              "#f0f921"
             ]
            ],
            "type": "histogram2d"
           }
          ],
          "histogram2dcontour": [
           {
            "colorbar": {
             "outlinewidth": 0,
             "ticks": ""
            },
            "colorscale": [
             [
              0,
              "#0d0887"
             ],
             [
              0.1111111111111111,
              "#46039f"
             ],
             [
              0.2222222222222222,
              "#7201a8"
             ],
             [
              0.3333333333333333,
              "#9c179e"
             ],
             [
              0.4444444444444444,
              "#bd3786"
             ],
             [
              0.5555555555555556,
              "#d8576b"
             ],
             [
              0.6666666666666666,
              "#ed7953"
             ],
             [
              0.7777777777777778,
              "#fb9f3a"
             ],
             [
              0.8888888888888888,
              "#fdca26"
             ],
             [
              1,
              "#f0f921"
             ]
            ],
            "type": "histogram2dcontour"
           }
          ],
          "mesh3d": [
           {
            "colorbar": {
             "outlinewidth": 0,
             "ticks": ""
            },
            "type": "mesh3d"
           }
          ],
          "parcoords": [
           {
            "line": {
             "colorbar": {
              "outlinewidth": 0,
              "ticks": ""
             }
            },
            "type": "parcoords"
           }
          ],
          "pie": [
           {
            "automargin": true,
            "type": "pie"
           }
          ],
          "scatter": [
           {
            "marker": {
             "colorbar": {
              "outlinewidth": 0,
              "ticks": ""
             }
            },
            "type": "scatter"
           }
          ],
          "scatter3d": [
           {
            "line": {
             "colorbar": {
              "outlinewidth": 0,
              "ticks": ""
             }
            },
            "marker": {
             "colorbar": {
              "outlinewidth": 0,
              "ticks": ""
             }
            },
            "type": "scatter3d"
           }
          ],
          "scattercarpet": [
           {
            "marker": {
             "colorbar": {
              "outlinewidth": 0,
              "ticks": ""
             }
            },
            "type": "scattercarpet"
           }
          ],
          "scattergeo": [
           {
            "marker": {
             "colorbar": {
              "outlinewidth": 0,
              "ticks": ""
             }
            },
            "type": "scattergeo"
           }
          ],
          "scattergl": [
           {
            "marker": {
             "colorbar": {
              "outlinewidth": 0,
              "ticks": ""
             }
            },
            "type": "scattergl"
           }
          ],
          "scattermapbox": [
           {
            "marker": {
             "colorbar": {
              "outlinewidth": 0,
              "ticks": ""
             }
            },
            "type": "scattermapbox"
           }
          ],
          "scatterpolar": [
           {
            "marker": {
             "colorbar": {
              "outlinewidth": 0,
              "ticks": ""
             }
            },
            "type": "scatterpolar"
           }
          ],
          "scatterpolargl": [
           {
            "marker": {
             "colorbar": {
              "outlinewidth": 0,
              "ticks": ""
             }
            },
            "type": "scatterpolargl"
           }
          ],
          "scatterternary": [
           {
            "marker": {
             "colorbar": {
              "outlinewidth": 0,
              "ticks": ""
             }
            },
            "type": "scatterternary"
           }
          ],
          "surface": [
           {
            "colorbar": {
             "outlinewidth": 0,
             "ticks": ""
            },
            "colorscale": [
             [
              0,
              "#0d0887"
             ],
             [
              0.1111111111111111,
              "#46039f"
             ],
             [
              0.2222222222222222,
              "#7201a8"
             ],
             [
              0.3333333333333333,
              "#9c179e"
             ],
             [
              0.4444444444444444,
              "#bd3786"
             ],
             [
              0.5555555555555556,
              "#d8576b"
             ],
             [
              0.6666666666666666,
              "#ed7953"
             ],
             [
              0.7777777777777778,
              "#fb9f3a"
             ],
             [
              0.8888888888888888,
              "#fdca26"
             ],
             [
              1,
              "#f0f921"
             ]
            ],
            "type": "surface"
           }
          ],
          "table": [
           {
            "cells": {
             "fill": {
              "color": "#EBF0F8"
             },
             "line": {
              "color": "white"
             }
            },
            "header": {
             "fill": {
              "color": "#C8D4E3"
             },
             "line": {
              "color": "white"
             }
            },
            "type": "table"
           }
          ]
         },
         "layout": {
          "annotationdefaults": {
           "arrowcolor": "#2a3f5f",
           "arrowhead": 0,
           "arrowwidth": 1
          },
          "autotypenumbers": "strict",
          "coloraxis": {
           "colorbar": {
            "outlinewidth": 0,
            "ticks": ""
           }
          },
          "colorscale": {
           "diverging": [
            [
             0,
             "#8e0152"
            ],
            [
             0.1,
             "#c51b7d"
            ],
            [
             0.2,
             "#de77ae"
            ],
            [
             0.3,
             "#f1b6da"
            ],
            [
             0.4,
             "#fde0ef"
            ],
            [
             0.5,
             "#f7f7f7"
            ],
            [
             0.6,
             "#e6f5d0"
            ],
            [
             0.7,
             "#b8e186"
            ],
            [
             0.8,
             "#7fbc41"
            ],
            [
             0.9,
             "#4d9221"
            ],
            [
             1,
             "#276419"
            ]
           ],
           "sequential": [
            [
             0,
             "#0d0887"
            ],
            [
             0.1111111111111111,
             "#46039f"
            ],
            [
             0.2222222222222222,
             "#7201a8"
            ],
            [
             0.3333333333333333,
             "#9c179e"
            ],
            [
             0.4444444444444444,
             "#bd3786"
            ],
            [
             0.5555555555555556,
             "#d8576b"
            ],
            [
             0.6666666666666666,
             "#ed7953"
            ],
            [
             0.7777777777777778,
             "#fb9f3a"
            ],
            [
             0.8888888888888888,
             "#fdca26"
            ],
            [
             1,
             "#f0f921"
            ]
           ],
           "sequentialminus": [
            [
             0,
             "#0d0887"
            ],
            [
             0.1111111111111111,
             "#46039f"
            ],
            [
             0.2222222222222222,
             "#7201a8"
            ],
            [
             0.3333333333333333,
             "#9c179e"
            ],
            [
             0.4444444444444444,
             "#bd3786"
            ],
            [
             0.5555555555555556,
             "#d8576b"
            ],
            [
             0.6666666666666666,
             "#ed7953"
            ],
            [
             0.7777777777777778,
             "#fb9f3a"
            ],
            [
             0.8888888888888888,
             "#fdca26"
            ],
            [
             1,
             "#f0f921"
            ]
           ]
          },
          "colorway": [
           "#636efa",
           "#EF553B",
           "#00cc96",
           "#ab63fa",
           "#FFA15A",
           "#19d3f3",
           "#FF6692",
           "#B6E880",
           "#FF97FF",
           "#FECB52"
          ],
          "font": {
           "color": "#2a3f5f"
          },
          "geo": {
           "bgcolor": "white",
           "lakecolor": "white",
           "landcolor": "#E5ECF6",
           "showlakes": true,
           "showland": true,
           "subunitcolor": "white"
          },
          "hoverlabel": {
           "align": "left"
          },
          "hovermode": "closest",
          "mapbox": {
           "style": "light"
          },
          "paper_bgcolor": "white",
          "plot_bgcolor": "#E5ECF6",
          "polar": {
           "angularaxis": {
            "gridcolor": "white",
            "linecolor": "white",
            "ticks": ""
           },
           "bgcolor": "#E5ECF6",
           "radialaxis": {
            "gridcolor": "white",
            "linecolor": "white",
            "ticks": ""
           }
          },
          "scene": {
           "xaxis": {
            "backgroundcolor": "#E5ECF6",
            "gridcolor": "white",
            "gridwidth": 2,
            "linecolor": "white",
            "showbackground": true,
            "ticks": "",
            "zerolinecolor": "white"
           },
           "yaxis": {
            "backgroundcolor": "#E5ECF6",
            "gridcolor": "white",
            "gridwidth": 2,
            "linecolor": "white",
            "showbackground": true,
            "ticks": "",
            "zerolinecolor": "white"
           },
           "zaxis": {
            "backgroundcolor": "#E5ECF6",
            "gridcolor": "white",
            "gridwidth": 2,
            "linecolor": "white",
            "showbackground": true,
            "ticks": "",
            "zerolinecolor": "white"
           }
          },
          "shapedefaults": {
           "line": {
            "color": "#2a3f5f"
           }
          },
          "ternary": {
           "aaxis": {
            "gridcolor": "white",
            "linecolor": "white",
            "ticks": ""
           },
           "baxis": {
            "gridcolor": "white",
            "linecolor": "white",
            "ticks": ""
           },
           "bgcolor": "#E5ECF6",
           "caxis": {
            "gridcolor": "white",
            "linecolor": "white",
            "ticks": ""
           }
          },
          "title": {
           "x": 0.05
          },
          "xaxis": {
           "automargin": true,
           "gridcolor": "white",
           "linecolor": "white",
           "ticks": "",
           "title": {
            "standoff": 15
           },
           "zerolinecolor": "white",
           "zerolinewidth": 2
          },
          "yaxis": {
           "automargin": true,
           "gridcolor": "white",
           "linecolor": "white",
           "ticks": "",
           "title": {
            "standoff": 15
           },
           "zerolinecolor": "white",
           "zerolinewidth": 2
          }
         }
        }
       }
      }
     },
     "metadata": {},
     "output_type": "display_data"
    }
   ],
   "source": [
    "fig = px.scatter_mapbox(df, lat=\"location_latitude\", lon=\"location_longitude\",\n",
    "                        hover_name='English_City',\n",
    "                        color=\"Value of Transactions\", \n",
    "                        size=\"Value of Transactions\", zoom=4,\n",
    "                  color_continuous_scale= px.colors.sequential.Blugrn, size_max=30)\n",
    "\n",
    "fig.show()"
   ]
  },
  {
   "cell_type": "code",
   "execution_count": 106,
   "metadata": {},
   "outputs": [
    {
     "data": {
      "application/vnd.plotly.v1+json": {
       "config": {
        "plotlyServerURL": "https://plot.ly"
       },
       "data": [
        {
         "marker": {
          "color": "rgb(68, 68, 68)"
         },
         "mode": "markers",
         "transforms": [
          {
           "aggregations": [
            {
             "enabled": true,
             "func": "sum",
             "target": "y"
            }
           ],
           "type": "aggregate"
          }
         ],
         "type": "bar",
         "x": [
          "أبها",
          "أبها",
          "أبها",
          "أبها",
          "تبوك",
          "أبها",
          "أبها",
          "أبها",
          "أبها",
          "أبها",
          "حائل",
          "أبها",
          "أبها",
          "أبها",
          "حائل",
          "تبوك",
          "أبها",
          "تبوك",
          "حائل",
          "أبها",
          "حائل",
          "حائل",
          "حائل",
          "حائل",
          "تبوك",
          "تبوك",
          "تبوك",
          "أبها",
          "تبوك",
          "تبوك",
          "حائل",
          "أبها",
          "أبها",
          "حائل",
          "أبها",
          "أبها",
          "تبوك",
          "حائل",
          "حائل",
          "أبها",
          "حائل",
          "تبوك",
          "حائل",
          "حائل",
          "تبوك",
          "أبها",
          "حائل",
          "حائل",
          "أبها",
          "تبوك",
          "تبوك",
          "تبوك",
          "تبوك",
          "حائل",
          "حائل",
          "تبوك",
          "حائل",
          "حائل",
          "حائل",
          "حائل",
          "تبوك",
          "حائل",
          "أبها",
          "تبوك",
          "تبوك",
          "حائل",
          "تبوك",
          "أبها",
          "حائل",
          "أبها",
          "تبوك",
          "تبوك",
          "أبها",
          "حائل",
          "أبها",
          "حائل",
          "حائل",
          "بريدة",
          "حائل",
          "تبوك",
          "حائل",
          "أبها",
          "أبها",
          "أبها",
          "أبها",
          "تبوك",
          "تبوك",
          "حائل",
          "تبوك",
          "أبها",
          "تبوك",
          "تبوك",
          "أبها",
          "حائل",
          "تبوك",
          "حائل",
          "أبها",
          "تبوك",
          "مكة المكرمة",
          "بريدة",
          "حائل",
          "أبها",
          "حائل",
          "بريدة",
          "بريدة",
          "حائل",
          "بريدة",
          "حائل",
          "بريدة",
          "تبوك",
          "تبوك",
          "تبوك",
          "بريدة",
          "بريدة",
          "أبها",
          "حائل",
          "تبوك",
          "مكة المكرمة",
          "تبوك",
          "الخبر",
          "أبها",
          "بريدة",
          "بريدة",
          "بريدة",
          "أبها",
          "بريدة",
          "تبوك",
          "بريدة",
          "بريدة",
          "بريدة",
          "بريدة",
          "تبوك",
          "بريدة",
          "بريدة",
          "بريدة",
          "بريدة",
          "مكة المكرمة",
          "بريدة",
          "بريدة",
          "بريدة",
          "تبوك",
          "بريدة",
          "بريدة",
          "مكة المكرمة",
          "بريدة",
          "مكة المكرمة",
          "بريدة",
          "بريدة",
          "بريدة",
          "الخبر",
          "المنورة",
          "بريدة",
          "الخبر",
          "مكة المكرمة",
          "مكة المكرمة",
          "بريدة",
          "مكة المكرمة",
          "المنورة",
          "بريدة",
          "بريدة",
          "الخبر",
          "الخبر",
          "الخبر",
          "مكة المكرمة",
          "المنورة",
          "بريدة",
          "المنورة",
          "مكة المكرمة",
          "بريدة",
          "المنورة",
          "مكة المكرمة",
          "مكة المكرمة",
          "الخبر",
          "الخبر",
          "بريدة",
          "مكة المكرمة",
          "مكة المكرمة",
          "مكة المكرمة",
          "المنورة",
          "الخبر",
          "مكة المكرمة",
          "بريدة",
          "مكة المكرمة",
          "مكة المكرمة",
          "المنورة",
          "مكة المكرمة",
          "الخبر",
          "المنورة",
          "الدمام",
          "الخبر",
          "بريدة",
          "مكة المكرمة",
          "مكة المكرمة",
          "المنورة",
          "مكة المكرمة",
          "مكة المكرمة",
          "الخبر",
          "المنورة",
          "الخبر",
          "مكة المكرمة",
          "الخبر",
          "الخبر",
          "مكة المكرمة",
          "الخبر",
          "الخبر",
          "المنورة",
          "مكة المكرمة",
          "الخبر",
          "مكة المكرمة",
          "الخبر",
          "الخبر",
          "مكة المكرمة",
          "الخبر",
          "الخبر",
          "المنورة",
          "المنورة",
          "الخبر",
          "الخبر",
          "الخبر",
          "الخبر",
          "المنورة",
          "المنورة",
          "الخبر",
          "المنورة",
          "المنورة",
          "المنورة",
          "المنورة",
          "المنورة",
          "المنورة",
          "الخبر",
          "المنورة",
          "المنورة",
          "مكة المكرمة",
          "الخبر",
          "مكة المكرمة",
          "المنورة",
          "المنورة",
          "مكة المكرمة",
          "مكة المكرمة",
          "مكة المكرمة",
          "الخبر",
          "الخبر",
          "الخبر",
          "المنورة",
          "مكة المكرمة",
          "الخبر",
          "المنورة",
          "الخبر",
          "الخبر",
          "الخبر",
          "المنورة",
          "المنورة",
          "المنورة",
          "مكة المكرمة",
          "الدمام",
          "المنورة",
          "المنورة",
          "مكة المكرمة",
          "المنورة",
          "مكة المكرمة",
          "المنورة",
          "الخبر",
          "الخبر",
          "المنورة",
          "المنورة",
          "الدمام",
          "الدمام",
          "الدمام",
          "الدمام",
          "الدمام",
          "المنورة",
          "المنورة",
          "الدمام",
          "الدمام",
          "الدمام",
          "الدمام",
          "الدمام",
          "الدمام",
          "الدمام",
          "مكة المكرمة",
          "الدمام",
          "الدمام",
          "الدمام",
          "الدمام",
          "الدمام",
          "الدمام",
          "الدمام",
          "الدمام",
          "الدمام",
          "الدمام",
          "الدمام",
          "الدمام",
          "الدمام",
          "الدمام",
          "الدمام",
          "الدمام",
          "الدمام",
          "الدمام",
          "الدمام",
          "الدمام",
          "الدمام",
          "الدمام",
          "الدمام",
          "الدمام",
          "جدة",
          "جدة",
          "جدة",
          "جدة",
          "جدة",
          "جدة",
          "جدة",
          "جدة",
          "جدة",
          "جدة",
          "جدة",
          "جدة",
          "جدة",
          "جدة",
          "جدة",
          "جدة",
          "جدة",
          "جدة",
          "جدة",
          "جدة",
          "جدة",
          "جدة",
          "جدة",
          "جدة",
          "جدة",
          "جدة",
          "جدة",
          "جدة",
          "جدة",
          "جدة",
          "جدة",
          "جدة",
          "الرياض",
          "جدة",
          "جدة",
          "جدة",
          "جدة",
          "جدة",
          "جدة",
          "المدن الأخرى",
          "المدن الأخرى",
          "المدن الأخرى",
          "المدن الأخرى",
          "الرياض",
          "المدن الأخرى",
          "المدن الأخرى",
          "المدن الأخرى",
          "المدن الأخرى",
          "الرياض",
          "الرياض",
          "المدن الأخرى",
          "المدن الأخرى",
          "الرياض",
          "الرياض",
          "المدن الأخرى",
          "المدن الأخرى",
          "الرياض",
          "المدن الأخرى",
          "المدن الأخرى",
          "المدن الأخرى",
          "المدن الأخرى",
          "الرياض",
          "المدن الأخرى",
          "الرياض",
          "الرياض",
          "المدن الأخرى",
          "الرياض",
          "الرياض",
          "الرياض",
          "الرياض",
          "المدن الأخرى",
          "المدن الأخرى",
          "الرياض",
          "الرياض",
          "المدن الأخرى",
          "الرياض",
          "الرياض",
          "المدن الأخرى",
          "المدن الأخرى",
          "الرياض",
          "الرياض",
          "المدن الأخرى",
          "الرياض",
          "المدن الأخرى",
          "الرياض",
          "المدن الأخرى",
          "الرياض",
          "المدن الأخرى",
          "المدن الأخرى",
          "الرياض",
          "الرياض",
          "المدن الأخرى",
          "الرياض",
          "الرياض",
          "الرياض",
          "الرياض",
          "المدن الأخرى",
          "المدن الأخرى",
          "الرياض",
          "المدن الأخرى",
          "الرياض",
          "الرياض",
          "المدن الأخرى",
          "المدن الأخرى",
          "المدن الأخرى",
          "الرياض",
          "الرياض",
          "الرياض",
          "المدن الأخرى",
          "الرياض",
          "المدن الأخرى",
          "الرياض",
          "المدن الأخرى",
          "الرياض"
         ],
         "y": [
          88650,
          91589,
          91594,
          93918,
          94373,
          94412,
          94614,
          96892,
          107000,
          108752,
          110119,
          111458,
          114723,
          115383,
          115711,
          117033,
          118935,
          119311,
          119323,
          120454,
          121279,
          122359,
          123519,
          123649,
          124374,
          124825,
          125015,
          125468,
          125950,
          127802,
          128446,
          129860,
          131105,
          132196,
          132797,
          132846,
          133123,
          135462,
          135543,
          135983,
          136240,
          136674,
          138107,
          138197,
          138599,
          139430,
          139493,
          139858,
          140315,
          141014,
          142246,
          143951,
          144110,
          144263,
          144606,
          145634,
          145770,
          148016,
          148488,
          148881,
          149980,
          150306,
          152086,
          152794,
          153229,
          153335,
          153366,
          153471,
          154118,
          155275,
          156897,
          157675,
          157942,
          159940,
          160429,
          160677,
          160719,
          160822,
          161952,
          162590,
          162690,
          163036,
          163289,
          163430,
          165556,
          169428,
          169473,
          170800,
          171853,
          172205,
          173083,
          173212,
          174113,
          174178,
          177712,
          178798,
          179111,
          179219,
          182765,
          184611,
          185617,
          186969,
          189689,
          189857,
          190317,
          190614,
          191101,
          192385,
          195754,
          196718,
          196742,
          196808,
          199705,
          199716,
          200696,
          201039,
          204273,
          206555,
          207194,
          208189,
          209130,
          209387,
          209997,
          210476,
          211463,
          211830,
          212474,
          213280,
          214288,
          215345,
          216659,
          217825,
          219387,
          222669,
          224828,
          225378,
          227878,
          228164,
          228177,
          229749,
          229910,
          231291,
          231331,
          234277,
          234710,
          234962,
          235880,
          238932,
          244250,
          244967,
          246107,
          247538,
          248689,
          249105,
          249186,
          251843,
          253226,
          254917,
          255300,
          256216,
          258369,
          258422,
          259339,
          259699,
          260128,
          260528,
          265021,
          265324,
          265431,
          265966,
          267391,
          267621,
          270560,
          272286,
          274135,
          274494,
          274617,
          276614,
          276959,
          277672,
          278025,
          279167,
          280590,
          280736,
          280975,
          281078,
          284218,
          285058,
          285325,
          285693,
          287580,
          288116,
          288730,
          291334,
          291751,
          292105,
          292242,
          292455,
          294320,
          294442,
          294511,
          296849,
          297089,
          297279,
          297374,
          297906,
          297981,
          298428,
          301464,
          302971,
          305270,
          305412,
          309513,
          311294,
          311755,
          314247,
          315482,
          315664,
          317874,
          317989,
          319691,
          319759,
          322058,
          322160,
          322191,
          323902,
          325943,
          327612,
          327961,
          328261,
          329130,
          330116,
          330513,
          330554,
          331555,
          332088,
          332526,
          334761,
          338786,
          339811,
          342950,
          343430,
          343680,
          344549,
          346496,
          349569,
          351031,
          352381,
          353087,
          354150,
          360753,
          363518,
          369231,
          371159,
          373853,
          375208,
          377521,
          377813,
          387014,
          391185,
          393341,
          393912,
          400574,
          405958,
          406141,
          408383,
          408570,
          413321,
          422645,
          424415,
          427326,
          427430,
          433827,
          434830,
          438477,
          439707,
          441126,
          456791,
          457846,
          459260,
          459739,
          462503,
          463639,
          468123,
          468689,
          470340,
          475327,
          478246,
          482968,
          483887,
          487069,
          489749,
          490390,
          504598,
          510441,
          543203,
          548370,
          551251,
          555802,
          556563,
          568069,
          577489,
          607122,
          613007,
          898075,
          1147789,
          1173176,
          1197955,
          1215985,
          1244339,
          1281156,
          1307330,
          1314380,
          1355000,
          1356134,
          1394742,
          1406790,
          1410212,
          1413593,
          1424004,
          1426372,
          1427678,
          1434275,
          1434289,
          1437495,
          1438258,
          1439234,
          1452643,
          1489774,
          1506003,
          1527437,
          1532398,
          1542599,
          1556134,
          1620070,
          1648035,
          1669265,
          1678117,
          1695883,
          1699371,
          1757351,
          1766971,
          1858848,
          2002421,
          2064499,
          2071085,
          2103304,
          2109702,
          2128412,
          2149327,
          2191065,
          2251615,
          2255027,
          2298563,
          2311934,
          2325122,
          2328228,
          2387652,
          2390765,
          2404915,
          2417377,
          2438297,
          2441557,
          2444689,
          2472952,
          2475003,
          2507583,
          2516385,
          2532052,
          2552193,
          2580956,
          2587717,
          2602929,
          2627460,
          2650394,
          2664068,
          2673901,
          2678439,
          2686301,
          2688947,
          2700881,
          2702006,
          2708416,
          2725903,
          2732814,
          2736624,
          2768077,
          2778601,
          2793053,
          2798162,
          2802167,
          2823418,
          2823420,
          2825880,
          2849098,
          2875626,
          2881115,
          2900510,
          2915268,
          2930775,
          2979323,
          2991442,
          2998935,
          3043409,
          3136181,
          3169823,
          3178665,
          3180118,
          3189342,
          3208795,
          3242158,
          3268995,
          3335339,
          3367583,
          3377810,
          3389615,
          3417435,
          3459379
         ]
        }
       ],
       "layout": {
        "title": "قيمة العمليات لكل مدينة",
        "updatemenus": [
         {
          "active": 1,
          "buttons": [
           {
            "args": [
             "transforms[0].aggregations[0].func",
             "count"
            ],
            "label": "count",
            "method": "restyle"
           },
           {
            "args": [
             "transforms[0].aggregations[0].func",
             "sum"
            ],
            "label": "sum",
            "method": "restyle"
           },
           {
            "args": [
             "transforms[0].aggregations[0].func",
             "avg"
            ],
            "label": "avg",
            "method": "restyle"
           },
           {
            "args": [
             "transforms[0].aggregations[0].func",
             "median"
            ],
            "label": "median",
            "method": "restyle"
           },
           {
            "args": [
             "transforms[0].aggregations[0].func",
             "mode"
            ],
            "label": "mode",
            "method": "restyle"
           },
           {
            "args": [
             "transforms[0].aggregations[0].func",
             "rms"
            ],
            "label": "rms",
            "method": "restyle"
           },
           {
            "args": [
             "transforms[0].aggregations[0].func",
             "stddev"
            ],
            "label": "stddev",
            "method": "restyle"
           },
           {
            "args": [
             "transforms[0].aggregations[0].func",
             "min"
            ],
            "label": "min",
            "method": "restyle"
           },
           {
            "args": [
             "transforms[0].aggregations[0].func",
             "max"
            ],
            "label": "max",
            "method": "restyle"
           },
           {
            "args": [
             "transforms[0].aggregations[0].func",
             "first"
            ],
            "label": "first",
            "method": "restyle"
           },
           {
            "args": [
             "transforms[0].aggregations[0].func",
             "last"
            ],
            "label": "last",
            "method": "restyle"
           }
          ],
          "showactive": false,
          "x": 0.85,
          "xref": "paper",
          "y": 1.15,
          "yanchor": "top",
          "yref": "paper"
         }
        ],
        "xaxis": {
         "title": "المدينة"
        },
        "yaxis": {
         "title": "قيمةالعمليات"
        }
       }
      }
     },
     "metadata": {},
     "output_type": "display_data"
    }
   ],
   "source": [
    "import plotly.io as pio\n",
    "import plotly.express as px\n",
    "\n",
    "df = pd.read_csv(r'C:\\Users\\talsughayyir\\Desktop\\pos\\SaudiPointOfSales-staging\\output\\cities_df.csv')\n",
    "df = df.sort_values('Value of Transactions')\n",
    "\n",
    "aggs = [\"count\",\"sum\",\"avg\",\"median\",\"mode\",\"rms\",\"stddev\",\"min\",\"max\",\"first\",\"last\"]\n",
    "\n",
    "agg = []\n",
    "agg_func = []\n",
    "for i in range(0, len(aggs)):\n",
    "    agg = dict(\n",
    "        args=['transforms[0].aggregations[0].func', aggs[i]],\n",
    "        label=aggs[i],\n",
    "        method='restyle'\n",
    "    )\n",
    "    agg_func.append(agg)\n",
    "\n",
    "\n",
    "data = [dict(\n",
    "  type = 'bar',\n",
    "  x = df['Arabic_City'],\n",
    "  y = df['Value of Transactions'],\n",
    "  mode = 'markers',\n",
    "  marker = dict(color = 'rgb(68, 68, 68)'),\n",
    "  transforms = [dict(\n",
    "    type = 'aggregate',\n",
    "    aggregations = [dict(\n",
    "        target = 'y', func = 'sum', enabled = True)\n",
    "    ]\n",
    "  )]\n",
    ")]\n",
    "\n",
    "layout = dict(\n",
    "  title = 'قيمة العمليات لكل مدينة',\n",
    "  xaxis = dict(title = 'المدينة'),\n",
    "  yaxis = dict(title = 'قيمةالعمليات'),\n",
    "  updatemenus = [dict(\n",
    "        x = 0.85,\n",
    "        y = 1.15,\n",
    "        xref = 'paper',\n",
    "        yref = 'paper',\n",
    "        yanchor = 'top',\n",
    "        active = 1,\n",
    "        showactive = False,\n",
    "        buttons = agg_func\n",
    "  )]\n",
    ")\n",
    "\n",
    "fig_dict = dict(data=data, layout=layout)\n",
    "\n",
    "pio.show(fig_dict, validate=False)"
   ]
  },
  {
   "cell_type": "code",
   "execution_count": null,
   "metadata": {},
   "outputs": [],
   "source": []
  }
 ],
 "metadata": {
  "interpreter": {
   "hash": "0500530d09e9f76a0a5528ef777535c33414eb32738d90a93ebd7301b21746cb"
  },
  "kernelspec": {
   "display_name": "Python 3.8.5 64-bit ('base': conda)",
   "name": "python3"
  },
  "language_info": {
   "codemirror_mode": {
    "name": "ipython",
    "version": 3
   },
   "file_extension": ".py",
   "mimetype": "text/x-python",
   "name": "python",
   "nbconvert_exporter": "python",
   "pygments_lexer": "ipython3",
   "version": "3.8.5"
  }
 },
 "nbformat": 4,
 "nbformat_minor": 4
}
